{
  "nbformat": 4,
  "nbformat_minor": 0,
  "metadata": {
    "colab": {
      "name": "Yolov5x.ipynb",
      "provenance": [],
      "collapsed_sections": [],
      "mount_file_id": "1ISEM2SBOXVGfBR4SncNtPSLcYTLxZNZf",
      "authorship_tag": "ABX9TyM8E9ZkivdjoZyKa52fenQw",
      "include_colab_link": true
    },
    "kernelspec": {
      "display_name": "Python 3",
      "name": "python3"
    },
    "language_info": {
      "name": "python"
    }
  },
  "cells": [
    {
      "cell_type": "markdown",
      "metadata": {
        "id": "view-in-github",
        "colab_type": "text"
      },
      "source": [
        "<a href=\"https://colab.research.google.com/github/ebyau/Whitefly-project/blob/main/Yolov5x_whitefly_detection.ipynb\" target=\"_parent\"><img src=\"https://colab.research.google.com/assets/colab-badge.svg\" alt=\"Open In Colab\"/></a>"
      ]
    },
    {
      "cell_type": "code",
      "metadata": {
        "colab": {
          "base_uri": "https://localhost:8080/"
        },
        "id": "nUlf5VZEfZO4",
        "outputId": "95cd24aa-382d-420c-99cd-faddb2d6cd15"
      },
      "source": [
        "# mount google drive on to colab\n",
        "from google.colab import drive\n",
        "drive.mount('/content/drive/')"
      ],
      "execution_count": 1,
      "outputs": [
        {
          "output_type": "stream",
          "text": [
            "Drive already mounted at /content/drive/; to attempt to forcibly remount, call drive.mount(\"/content/drive/\", force_remount=True).\n"
          ],
          "name": "stdout"
        }
      ]
    },
    {
      "cell_type": "code",
      "metadata": {
        "colab": {
          "base_uri": "https://localhost:8080/"
        },
        "id": "VLPKGO3Qf-5Z",
        "outputId": "bcf21521-0eb2-4a35-ffb2-c39d96533d97"
      },
      "source": [
        "# check the GPU specs given by colab\n",
        "!nvidia-smi"
      ],
      "execution_count": null,
      "outputs": [
        {
          "output_type": "stream",
          "text": [
            "Fri Apr 30 07:18:53 2021       \n",
            "+-----------------------------------------------------------------------------+\n",
            "| NVIDIA-SMI 465.19.01    Driver Version: 460.32.03    CUDA Version: 11.2     |\n",
            "|-------------------------------+----------------------+----------------------+\n",
            "| GPU  Name        Persistence-M| Bus-Id        Disp.A | Volatile Uncorr. ECC |\n",
            "| Fan  Temp  Perf  Pwr:Usage/Cap|         Memory-Usage | GPU-Util  Compute M. |\n",
            "|                               |                      |               MIG M. |\n",
            "|===============================+======================+======================|\n",
            "|   0  Tesla T4            Off  | 00000000:00:04.0 Off |                    0 |\n",
            "| N/A   64C    P8    12W /  70W |      0MiB / 15109MiB |      0%      Default |\n",
            "|                               |                      |                  N/A |\n",
            "+-------------------------------+----------------------+----------------------+\n",
            "                                                                               \n",
            "+-----------------------------------------------------------------------------+\n",
            "| Processes:                                                                  |\n",
            "|  GPU   GI   CI        PID   Type   Process name                  GPU Memory |\n",
            "|        ID   ID                                                   Usage      |\n",
            "|=============================================================================|\n",
            "|  No running processes found                                                 |\n",
            "+-----------------------------------------------------------------------------+\n"
          ],
          "name": "stdout"
        }
      ]
    },
    {
      "cell_type": "code",
      "metadata": {
        "colab": {
          "base_uri": "https://localhost:8080/"
        },
        "collapsed": true,
        "id": "CuSzQ6DqgGP0",
        "outputId": "2fe48d5f-972f-48d2-8d66-2588042ddcf1"
      },
      "source": [
        "#install apex for fasater training\n",
        "!git clone https://github.com/NVIDIA/apex && cd apex && pip install -v --no-cache-dir --global-option=\"--cpp_ext\" --global-option=\"--cuda_ext\" . --user && cd .. && rm -rf apex"
      ],
      "execution_count": null,
      "outputs": [
        {
          "output_type": "stream",
          "text": [
            "Cloning into 'apex'...\n",
            "remote: Enumerating objects: 8038, done.\u001b[K\n",
            "remote: Counting objects: 100% (125/125), done.\u001b[K\n",
            "remote: Compressing objects: 100% (91/91), done.\u001b[K\n",
            "remote: Total 8038 (delta 58), reused 68 (delta 29), pack-reused 7913\u001b[K\n",
            "Receiving objects: 100% (8038/8038), 14.11 MiB | 29.06 MiB/s, done.\n",
            "Resolving deltas: 100% (5457/5457), done.\n",
            "/usr/local/lib/python3.7/dist-packages/pip/_internal/commands/install.py:283: UserWarning: Disabling all use of wheels due to the use of --build-options / --global-options / --install-options.\n",
            "  cmdoptions.check_install_build_global(options)\n",
            "Created temporary directory: /tmp/pip-ephem-wheel-cache-ycuuwjj9\n",
            "Created temporary directory: /tmp/pip-req-tracker-so9ysmqm\n",
            "Created requirements tracker '/tmp/pip-req-tracker-so9ysmqm'\n",
            "Created temporary directory: /tmp/pip-install-72lnjl7a\n",
            "Processing /content/apex\n",
            "  Created temporary directory: /tmp/pip-req-build-pde16bun\n",
            "  Added file:///content/apex to build tracker '/tmp/pip-req-tracker-so9ysmqm'\n",
            "    Running setup.py (path:/tmp/pip-req-build-pde16bun/setup.py) egg_info for package from file:///content/apex\n",
            "    Running command python setup.py egg_info\n",
            "\n",
            "\n",
            "    torch.__version__  = 1.8.1+cu101\n",
            "\n",
            "\n",
            "    running egg_info\n",
            "    creating /tmp/pip-req-build-pde16bun/pip-egg-info/apex.egg-info\n",
            "    writing /tmp/pip-req-build-pde16bun/pip-egg-info/apex.egg-info/PKG-INFO\n",
            "    writing dependency_links to /tmp/pip-req-build-pde16bun/pip-egg-info/apex.egg-info/dependency_links.txt\n",
            "    writing top-level names to /tmp/pip-req-build-pde16bun/pip-egg-info/apex.egg-info/top_level.txt\n",
            "    writing manifest file '/tmp/pip-req-build-pde16bun/pip-egg-info/apex.egg-info/SOURCES.txt'\n",
            "    adding license file 'LICENSE' (matched pattern 'LICEN[CS]E*')\n",
            "    writing manifest file '/tmp/pip-req-build-pde16bun/pip-egg-info/apex.egg-info/SOURCES.txt'\n",
            "    /tmp/pip-req-build-pde16bun/setup.py:67: UserWarning: Option --pyprof not specified. Not installing PyProf dependencies!\n",
            "      warnings.warn(\"Option --pyprof not specified. Not installing PyProf dependencies!\")\n",
            "  Source in /tmp/pip-req-build-pde16bun has version 0.1, which satisfies requirement apex==0.1 from file:///content/apex\n",
            "  Removed apex==0.1 from file:///content/apex from build tracker '/tmp/pip-req-tracker-so9ysmqm'\n",
            "Skipping wheel build for apex, due to binaries being disabled for it.\n",
            "Installing collected packages: apex\n",
            "  Created temporary directory: /tmp/pip-record-saaoveh6\n",
            "    Running command /usr/bin/python3 -u -c 'import sys, setuptools, tokenize; sys.argv[0] = '\"'\"'/tmp/pip-req-build-pde16bun/setup.py'\"'\"'; __file__='\"'\"'/tmp/pip-req-build-pde16bun/setup.py'\"'\"';f=getattr(tokenize, '\"'\"'open'\"'\"', open)(__file__);code=f.read().replace('\"'\"'\\r\\n'\"'\"', '\"'\"'\\n'\"'\"');f.close();exec(compile(code, __file__, '\"'\"'exec'\"'\"'))' --cpp_ext --cuda_ext install --record /tmp/pip-record-saaoveh6/install-record.txt --single-version-externally-managed --compile --user --prefix=\n",
            "\n",
            "\n",
            "    torch.__version__  = 1.8.1+cu101\n",
            "\n",
            "\n",
            "    /tmp/pip-req-build-pde16bun/setup.py:67: UserWarning: Option --pyprof not specified. Not installing PyProf dependencies!\n",
            "      warnings.warn(\"Option --pyprof not specified. Not installing PyProf dependencies!\")\n",
            "\n",
            "    Compiling cuda extensions with\n",
            "    nvcc: NVIDIA (R) Cuda compiler driver\n",
            "    Copyright (c) 2005-2020 NVIDIA Corporation\n",
            "    Built on Wed_Jul_22_19:09:09_PDT_2020\n",
            "    Cuda compilation tools, release 11.0, V11.0.221\n",
            "    Build cuda_11.0_bu.TC445_37.28845127_0\n",
            "    from /usr/local/cuda/bin\n",
            "\n",
            "    Traceback (most recent call last):\n",
            "      File \"<string>\", line 1, in <module>\n",
            "      File \"/tmp/pip-req-build-pde16bun/setup.py\", line 171, in <module>\n",
            "        check_cuda_torch_binary_vs_bare_metal(torch.utils.cpp_extension.CUDA_HOME)\n",
            "      File \"/tmp/pip-req-build-pde16bun/setup.py\", line 106, in check_cuda_torch_binary_vs_bare_metal\n",
            "        \"https://github.com/NVIDIA/apex/pull/323#discussion_r287021798.  \"\n",
            "    RuntimeError: Cuda extensions are being compiled with a version of Cuda that does not match the version used to compile Pytorch binaries.  Pytorch binaries were compiled with Cuda 10.1.\n",
            "    In some cases, a minor-version mismatch will not cause later errors:  https://github.com/NVIDIA/apex/pull/323#discussion_r287021798.  You can try commenting out this check (at your own risk).\n",
            "    Running setup.py install for apex ... \u001b[?25l\u001b[?25herror\n",
            "Cleaning up...\n",
            "  Removing source in /tmp/pip-req-build-pde16bun\n",
            "Removed build tracker '/tmp/pip-req-tracker-so9ysmqm'\n",
            "\u001b[31mERROR: Command errored out with exit status 1: /usr/bin/python3 -u -c 'import sys, setuptools, tokenize; sys.argv[0] = '\"'\"'/tmp/pip-req-build-pde16bun/setup.py'\"'\"'; __file__='\"'\"'/tmp/pip-req-build-pde16bun/setup.py'\"'\"';f=getattr(tokenize, '\"'\"'open'\"'\"', open)(__file__);code=f.read().replace('\"'\"'\\r\\n'\"'\"', '\"'\"'\\n'\"'\"');f.close();exec(compile(code, __file__, '\"'\"'exec'\"'\"'))' --cpp_ext --cuda_ext install --record /tmp/pip-record-saaoveh6/install-record.txt --single-version-externally-managed --compile --user --prefix= Check the logs for full command output.\u001b[0m\n",
            "Exception information:\n",
            "Traceback (most recent call last):\n",
            "  File \"/usr/local/lib/python3.7/dist-packages/pip/_internal/cli/base_command.py\", line 153, in _main\n",
            "    status = self.run(options, args)\n",
            "  File \"/usr/local/lib/python3.7/dist-packages/pip/_internal/commands/install.py\", line 455, in run\n",
            "    use_user_site=options.use_user_site,\n",
            "  File \"/usr/local/lib/python3.7/dist-packages/pip/_internal/req/__init__.py\", line 62, in install_given_reqs\n",
            "    **kwargs\n",
            "  File \"/usr/local/lib/python3.7/dist-packages/pip/_internal/req/req_install.py\", line 888, in install\n",
            "    cwd=self.unpacked_source_directory,\n",
            "  File \"/usr/local/lib/python3.7/dist-packages/pip/_internal/utils/subprocess.py\", line 275, in runner\n",
            "    spinner=spinner,\n",
            "  File \"/usr/local/lib/python3.7/dist-packages/pip/_internal/utils/subprocess.py\", line 242, in call_subprocess\n",
            "    raise InstallationError(exc_msg)\n",
            "pip._internal.exceptions.InstallationError: Command errored out with exit status 1: /usr/bin/python3 -u -c 'import sys, setuptools, tokenize; sys.argv[0] = '\"'\"'/tmp/pip-req-build-pde16bun/setup.py'\"'\"'; __file__='\"'\"'/tmp/pip-req-build-pde16bun/setup.py'\"'\"';f=getattr(tokenize, '\"'\"'open'\"'\"', open)(__file__);code=f.read().replace('\"'\"'\\r\\n'\"'\"', '\"'\"'\\n'\"'\"');f.close();exec(compile(code, __file__, '\"'\"'exec'\"'\"'))' --cpp_ext --cuda_ext install --record /tmp/pip-record-saaoveh6/install-record.txt --single-version-externally-managed --compile --user --prefix= Check the logs for full command output.\n"
          ],
          "name": "stdout"
        }
      ]
    },
    {
      "cell_type": "code",
      "metadata": {
        "colab": {
          "base_uri": "https://localhost:8080/"
        },
        "id": "LWjdqZErgVIu",
        "outputId": "be8f7eac-d4cb-48cf-906c-4d7b77ad7019"
      },
      "source": [
        "#enter the google drive dir\n",
        "%cd '/content/drive/My Drive/'"
      ],
      "execution_count": 2,
      "outputs": [
        {
          "output_type": "stream",
          "text": [
            "/content/drive/My Drive\n"
          ],
          "name": "stdout"
        }
      ]
    },
    {
      "cell_type": "code",
      "metadata": {
        "colab": {
          "base_uri": "https://localhost:8080/"
        },
        "collapsed": true,
        "id": "iN5Jmv6fg-BH",
        "outputId": "a155512e-aceb-40a2-b245-804332bfc8fa"
      },
      "source": [
        "# clone github yolov5 repo\n",
        "!git clone https://github.com/ultralytics/yolov5 "
      ],
      "execution_count": null,
      "outputs": [
        {
          "output_type": "stream",
          "text": [
            "Cloning into 'yolov5'...\n",
            "remote: Enumerating objects: 5948, done.\u001b[K\n",
            "remote: Counting objects: 100% (4/4), done.\u001b[K\n",
            "remote: Compressing objects: 100% (4/4), done.\u001b[K\n",
            "remote: Total 5948 (delta 0), reused 0 (delta 0), pack-reused 5944\u001b[K\n",
            "Receiving objects: 100% (5948/5948), 8.35 MiB | 10.11 MiB/s, done.\n",
            "Resolving deltas: 100% (4063/4063), done.\n"
          ],
          "name": "stdout"
        }
      ]
    },
    {
      "cell_type": "code",
      "metadata": {
        "colab": {
          "base_uri": "https://localhost:8080/"
        },
        "id": "DMJ8Eb8bhGPa",
        "outputId": "510429f6-65ca-404c-da4c-a40b73dd8e8a"
      },
      "source": [
        "# Enter the yolo v5 dir\n",
        "%cd 'yolov5/'"
      ],
      "execution_count": 3,
      "outputs": [
        {
          "output_type": "stream",
          "text": [
            "/content/drive/My Drive/yolov5\n"
          ],
          "name": "stdout"
        }
      ]
    },
    {
      "cell_type": "code",
      "metadata": {
        "colab": {
          "base_uri": "https://localhost:8080/"
        },
        "collapsed": true,
        "id": "lt0MeDvyhVub",
        "outputId": "be8f384d-d031-4b53-8c67-a6b187d87ae6"
      },
      "source": [
        "#install required needed by yolov5\n",
        "!pip install -r requirements.txt"
      ],
      "execution_count": 5,
      "outputs": [
        {
          "output_type": "stream",
          "text": [
            "Requirement already satisfied: matplotlib>=3.2.2 in /usr/local/lib/python3.7/dist-packages (from -r requirements.txt (line 4)) (3.2.2)\n",
            "Requirement already satisfied: numpy>=1.18.5 in /usr/local/lib/python3.7/dist-packages (from -r requirements.txt (line 5)) (1.19.5)\n",
            "Requirement already satisfied: opencv-python>=4.1.2 in /usr/local/lib/python3.7/dist-packages (from -r requirements.txt (line 6)) (4.1.2.30)\n",
            "Requirement already satisfied: Pillow in /usr/local/lib/python3.7/dist-packages (from -r requirements.txt (line 7)) (7.1.2)\n",
            "Collecting PyYAML>=5.3.1\n",
            "\u001b[?25l  Downloading https://files.pythonhosted.org/packages/7a/a5/393c087efdc78091afa2af9f1378762f9821c9c1d7a22c5753fb5ac5f97a/PyYAML-5.4.1-cp37-cp37m-manylinux1_x86_64.whl (636kB)\n",
            "\u001b[K     |████████████████████████████████| 645kB 4.6MB/s \n",
            "\u001b[?25hRequirement already satisfied: scipy>=1.4.1 in /usr/local/lib/python3.7/dist-packages (from -r requirements.txt (line 9)) (1.4.1)\n",
            "Requirement already satisfied: torch>=1.7.0 in /usr/local/lib/python3.7/dist-packages (from -r requirements.txt (line 10)) (1.8.1+cu101)\n",
            "Requirement already satisfied: torchvision>=0.8.1 in /usr/local/lib/python3.7/dist-packages (from -r requirements.txt (line 11)) (0.9.1+cu101)\n",
            "Requirement already satisfied: tqdm>=4.41.0 in /usr/local/lib/python3.7/dist-packages (from -r requirements.txt (line 12)) (4.41.1)\n",
            "Requirement already satisfied: tensorboard>=2.4.1 in /usr/local/lib/python3.7/dist-packages (from -r requirements.txt (line 15)) (2.4.1)\n",
            "Requirement already satisfied: seaborn>=0.11.0 in /usr/local/lib/python3.7/dist-packages (from -r requirements.txt (line 19)) (0.11.1)\n",
            "Requirement already satisfied: pandas in /usr/local/lib/python3.7/dist-packages (from -r requirements.txt (line 20)) (1.1.5)\n",
            "Collecting thop\n",
            "  Downloading https://files.pythonhosted.org/packages/6c/8b/22ce44e1c71558161a8bd54471123cc796589c7ebbfc15a7e8932e522f83/thop-0.0.31.post2005241907-py3-none-any.whl\n",
            "Requirement already satisfied: pycocotools>=2.0 in /usr/local/lib/python3.7/dist-packages (from -r requirements.txt (line 29)) (2.0.2)\n",
            "Requirement already satisfied: pyparsing!=2.0.4,!=2.1.2,!=2.1.6,>=2.0.1 in /usr/local/lib/python3.7/dist-packages (from matplotlib>=3.2.2->-r requirements.txt (line 4)) (2.4.7)\n",
            "Requirement already satisfied: cycler>=0.10 in /usr/local/lib/python3.7/dist-packages (from matplotlib>=3.2.2->-r requirements.txt (line 4)) (0.10.0)\n",
            "Requirement already satisfied: python-dateutil>=2.1 in /usr/local/lib/python3.7/dist-packages (from matplotlib>=3.2.2->-r requirements.txt (line 4)) (2.8.1)\n",
            "Requirement already satisfied: kiwisolver>=1.0.1 in /usr/local/lib/python3.7/dist-packages (from matplotlib>=3.2.2->-r requirements.txt (line 4)) (1.3.1)\n",
            "Requirement already satisfied: typing-extensions in /usr/local/lib/python3.7/dist-packages (from torch>=1.7.0->-r requirements.txt (line 10)) (3.7.4.3)\n",
            "Requirement already satisfied: setuptools>=41.0.0 in /usr/local/lib/python3.7/dist-packages (from tensorboard>=2.4.1->-r requirements.txt (line 15)) (56.0.0)\n",
            "Requirement already satisfied: wheel>=0.26; python_version >= \"3\" in /usr/local/lib/python3.7/dist-packages (from tensorboard>=2.4.1->-r requirements.txt (line 15)) (0.36.2)\n",
            "Requirement already satisfied: requests<3,>=2.21.0 in /usr/local/lib/python3.7/dist-packages (from tensorboard>=2.4.1->-r requirements.txt (line 15)) (2.23.0)\n",
            "Requirement already satisfied: absl-py>=0.4 in /usr/local/lib/python3.7/dist-packages (from tensorboard>=2.4.1->-r requirements.txt (line 15)) (0.12.0)\n",
            "Requirement already satisfied: six>=1.10.0 in /usr/local/lib/python3.7/dist-packages (from tensorboard>=2.4.1->-r requirements.txt (line 15)) (1.15.0)\n",
            "Requirement already satisfied: werkzeug>=0.11.15 in /usr/local/lib/python3.7/dist-packages (from tensorboard>=2.4.1->-r requirements.txt (line 15)) (1.0.1)\n",
            "Requirement already satisfied: google-auth-oauthlib<0.5,>=0.4.1 in /usr/local/lib/python3.7/dist-packages (from tensorboard>=2.4.1->-r requirements.txt (line 15)) (0.4.4)\n",
            "Requirement already satisfied: grpcio>=1.24.3 in /usr/local/lib/python3.7/dist-packages (from tensorboard>=2.4.1->-r requirements.txt (line 15)) (1.32.0)\n",
            "Requirement already satisfied: markdown>=2.6.8 in /usr/local/lib/python3.7/dist-packages (from tensorboard>=2.4.1->-r requirements.txt (line 15)) (3.3.4)\n",
            "Requirement already satisfied: tensorboard-plugin-wit>=1.6.0 in /usr/local/lib/python3.7/dist-packages (from tensorboard>=2.4.1->-r requirements.txt (line 15)) (1.8.0)\n",
            "Requirement already satisfied: protobuf>=3.6.0 in /usr/local/lib/python3.7/dist-packages (from tensorboard>=2.4.1->-r requirements.txt (line 15)) (3.12.4)\n",
            "Requirement already satisfied: google-auth<2,>=1.6.3 in /usr/local/lib/python3.7/dist-packages (from tensorboard>=2.4.1->-r requirements.txt (line 15)) (1.28.1)\n",
            "Requirement already satisfied: pytz>=2017.2 in /usr/local/lib/python3.7/dist-packages (from pandas->-r requirements.txt (line 20)) (2018.9)\n",
            "Requirement already satisfied: cython>=0.27.3 in /usr/local/lib/python3.7/dist-packages (from pycocotools>=2.0->-r requirements.txt (line 29)) (0.29.22)\n",
            "Requirement already satisfied: urllib3!=1.25.0,!=1.25.1,<1.26,>=1.21.1 in /usr/local/lib/python3.7/dist-packages (from requests<3,>=2.21.0->tensorboard>=2.4.1->-r requirements.txt (line 15)) (1.24.3)\n",
            "Requirement already satisfied: certifi>=2017.4.17 in /usr/local/lib/python3.7/dist-packages (from requests<3,>=2.21.0->tensorboard>=2.4.1->-r requirements.txt (line 15)) (2020.12.5)\n",
            "Requirement already satisfied: idna<3,>=2.5 in /usr/local/lib/python3.7/dist-packages (from requests<3,>=2.21.0->tensorboard>=2.4.1->-r requirements.txt (line 15)) (2.10)\n",
            "Requirement already satisfied: chardet<4,>=3.0.2 in /usr/local/lib/python3.7/dist-packages (from requests<3,>=2.21.0->tensorboard>=2.4.1->-r requirements.txt (line 15)) (3.0.4)\n",
            "Requirement already satisfied: requests-oauthlib>=0.7.0 in /usr/local/lib/python3.7/dist-packages (from google-auth-oauthlib<0.5,>=0.4.1->tensorboard>=2.4.1->-r requirements.txt (line 15)) (1.3.0)\n",
            "Requirement already satisfied: importlib-metadata; python_version < \"3.8\" in /usr/local/lib/python3.7/dist-packages (from markdown>=2.6.8->tensorboard>=2.4.1->-r requirements.txt (line 15)) (3.10.1)\n",
            "Requirement already satisfied: rsa<5,>=3.1.4; python_version >= \"3.6\" in /usr/local/lib/python3.7/dist-packages (from google-auth<2,>=1.6.3->tensorboard>=2.4.1->-r requirements.txt (line 15)) (4.7.2)\n",
            "Requirement already satisfied: pyasn1-modules>=0.2.1 in /usr/local/lib/python3.7/dist-packages (from google-auth<2,>=1.6.3->tensorboard>=2.4.1->-r requirements.txt (line 15)) (0.2.8)\n",
            "Requirement already satisfied: cachetools<5.0,>=2.0.0 in /usr/local/lib/python3.7/dist-packages (from google-auth<2,>=1.6.3->tensorboard>=2.4.1->-r requirements.txt (line 15)) (4.2.1)\n",
            "Requirement already satisfied: oauthlib>=3.0.0 in /usr/local/lib/python3.7/dist-packages (from requests-oauthlib>=0.7.0->google-auth-oauthlib<0.5,>=0.4.1->tensorboard>=2.4.1->-r requirements.txt (line 15)) (3.1.0)\n",
            "Requirement already satisfied: zipp>=0.5 in /usr/local/lib/python3.7/dist-packages (from importlib-metadata; python_version < \"3.8\"->markdown>=2.6.8->tensorboard>=2.4.1->-r requirements.txt (line 15)) (3.4.1)\n",
            "Requirement already satisfied: pyasn1>=0.1.3 in /usr/local/lib/python3.7/dist-packages (from rsa<5,>=3.1.4; python_version >= \"3.6\"->google-auth<2,>=1.6.3->tensorboard>=2.4.1->-r requirements.txt (line 15)) (0.4.8)\n",
            "Installing collected packages: PyYAML, thop\n",
            "  Found existing installation: PyYAML 3.13\n",
            "    Uninstalling PyYAML-3.13:\n",
            "      Successfully uninstalled PyYAML-3.13\n",
            "Successfully installed PyYAML-5.4.1 thop-0.0.31.post2005241907\n"
          ],
          "name": "stdout"
        }
      ]
    },
    {
      "cell_type": "code",
      "metadata": {
        "colab": {
          "base_uri": "https://localhost:8080/"
        },
        "collapsed": true,
        "id": "ol7Nkb28iEYr",
        "outputId": "0ebc159f-bb89-47ac-e447-02bceb8c760f"
      },
      "source": [
        "#initialize tensorboard\n",
        "%load_ext tensorboard\n",
        "# install wnadb library for visualization\n",
        "!pip install wandb"
      ],
      "execution_count": null,
      "outputs": [
        {
          "output_type": "stream",
          "text": [
            "Collecting wandb\n",
            "\u001b[?25l  Downloading https://files.pythonhosted.org/packages/5c/ee/d755f9e5466df64c8416a2c6a860fb3aaa43ed6ea8e8e8e81460fda5788b/wandb-0.10.28-py2.py3-none-any.whl (2.1MB)\n",
            "\u001b[K     |████████████████████████████████| 2.1MB 18.2MB/s \n",
            "\u001b[?25hCollecting configparser>=3.8.1\n",
            "  Downloading https://files.pythonhosted.org/packages/fd/01/ff260a18caaf4457eb028c96eeb405c4a230ca06c8ec9c1379f813caa52e/configparser-5.0.2-py3-none-any.whl\n",
            "Collecting GitPython>=1.0.0\n",
            "\u001b[?25l  Downloading https://files.pythonhosted.org/packages/a6/99/98019716955ba243657daedd1de8f3a88ca1f5b75057c38e959db22fb87b/GitPython-3.1.14-py3-none-any.whl (159kB)\n",
            "\u001b[K     |████████████████████████████████| 163kB 53.6MB/s \n",
            "\u001b[?25hCollecting pathtools\n",
            "  Downloading https://files.pythonhosted.org/packages/e7/7f/470d6fcdf23f9f3518f6b0b76be9df16dcc8630ad409947f8be2eb0ed13a/pathtools-0.1.2.tar.gz\n",
            "Collecting subprocess32>=3.5.3\n",
            "\u001b[?25l  Downloading https://files.pythonhosted.org/packages/32/c8/564be4d12629b912ea431f1a50eb8b3b9d00f1a0b1ceff17f266be190007/subprocess32-3.5.4.tar.gz (97kB)\n",
            "\u001b[K     |████████████████████████████████| 102kB 14.2MB/s \n",
            "\u001b[?25hRequirement already satisfied: Click>=7.0 in /usr/local/lib/python3.7/dist-packages (from wandb) (7.1.2)\n",
            "Requirement already satisfied: protobuf>=3.12.0 in /usr/local/lib/python3.7/dist-packages (from wandb) (3.12.4)\n",
            "Requirement already satisfied: six>=1.13.0 in /usr/local/lib/python3.7/dist-packages (from wandb) (1.15.0)\n",
            "Requirement already satisfied: promise<3,>=2.0 in /usr/local/lib/python3.7/dist-packages (from wandb) (2.3)\n",
            "Collecting docker-pycreds>=0.4.0\n",
            "  Downloading https://files.pythonhosted.org/packages/f5/e8/f6bd1eee09314e7e6dee49cbe2c5e22314ccdb38db16c9fc72d2fa80d054/docker_pycreds-0.4.0-py2.py3-none-any.whl\n",
            "Requirement already satisfied: requests<3,>=2.0.0 in /usr/local/lib/python3.7/dist-packages (from wandb) (2.23.0)\n",
            "Requirement already satisfied: python-dateutil>=2.6.1 in /usr/local/lib/python3.7/dist-packages (from wandb) (2.8.1)\n",
            "Collecting shortuuid>=0.5.0\n",
            "  Downloading https://files.pythonhosted.org/packages/25/a6/2ecc1daa6a304e7f1b216f0896b26156b78e7c38e1211e9b798b4716c53d/shortuuid-1.0.1-py3-none-any.whl\n",
            "Requirement already satisfied: PyYAML in /usr/local/lib/python3.7/dist-packages (from wandb) (5.4.1)\n",
            "Collecting sentry-sdk>=0.4.0\n",
            "\u001b[?25l  Downloading https://files.pythonhosted.org/packages/f3/92/5a33be64990ba815364a8f2dd9e6f51de60d23dfddafb4f1fc5577d4dc64/sentry_sdk-1.0.0-py2.py3-none-any.whl (131kB)\n",
            "\u001b[K     |████████████████████████████████| 133kB 53.0MB/s \n",
            "\u001b[?25hRequirement already satisfied: psutil>=5.0.0 in /usr/local/lib/python3.7/dist-packages (from wandb) (5.4.8)\n",
            "Collecting gitdb<5,>=4.0.1\n",
            "\u001b[?25l  Downloading https://files.pythonhosted.org/packages/ea/e8/f414d1a4f0bbc668ed441f74f44c116d9816833a48bf81d22b697090dba8/gitdb-4.0.7-py3-none-any.whl (63kB)\n",
            "\u001b[K     |████████████████████████████████| 71kB 11.0MB/s \n",
            "\u001b[?25hRequirement already satisfied: setuptools in /usr/local/lib/python3.7/dist-packages (from protobuf>=3.12.0->wandb) (56.0.0)\n",
            "Requirement already satisfied: urllib3!=1.25.0,!=1.25.1,<1.26,>=1.21.1 in /usr/local/lib/python3.7/dist-packages (from requests<3,>=2.0.0->wandb) (1.24.3)\n",
            "Requirement already satisfied: certifi>=2017.4.17 in /usr/local/lib/python3.7/dist-packages (from requests<3,>=2.0.0->wandb) (2020.12.5)\n",
            "Requirement already satisfied: chardet<4,>=3.0.2 in /usr/local/lib/python3.7/dist-packages (from requests<3,>=2.0.0->wandb) (3.0.4)\n",
            "Requirement already satisfied: idna<3,>=2.5 in /usr/local/lib/python3.7/dist-packages (from requests<3,>=2.0.0->wandb) (2.10)\n",
            "Collecting smmap<5,>=3.0.1\n",
            "  Downloading https://files.pythonhosted.org/packages/68/ee/d540eb5e5996eb81c26ceffac6ee49041d473bc5125f2aa995cf51ec1cf1/smmap-4.0.0-py2.py3-none-any.whl\n",
            "Building wheels for collected packages: pathtools, subprocess32\n",
            "  Building wheel for pathtools (setup.py) ... \u001b[?25l\u001b[?25hdone\n",
            "  Created wheel for pathtools: filename=pathtools-0.1.2-cp37-none-any.whl size=8786 sha256=0f4006ba7ae9e1b456d3fca97e972f6a6270bc5519b70de4f20aabdfd1113457\n",
            "  Stored in directory: /root/.cache/pip/wheels/0b/04/79/c3b0c3a0266a3cb4376da31e5bfe8bba0c489246968a68e843\n",
            "  Building wheel for subprocess32 (setup.py) ... \u001b[?25l\u001b[?25hdone\n",
            "  Created wheel for subprocess32: filename=subprocess32-3.5.4-cp37-none-any.whl size=6489 sha256=b13916b31c3d2fdfc46000690e7fac0703f8ca85cec57afadaffdae524ca41a3\n",
            "  Stored in directory: /root/.cache/pip/wheels/68/39/1a/5e402bdfdf004af1786c8b853fd92f8c4a04f22aad179654d1\n",
            "Successfully built pathtools subprocess32\n",
            "Installing collected packages: configparser, smmap, gitdb, GitPython, pathtools, subprocess32, docker-pycreds, shortuuid, sentry-sdk, wandb\n",
            "Successfully installed GitPython-3.1.14 configparser-5.0.2 docker-pycreds-0.4.0 gitdb-4.0.7 pathtools-0.1.2 sentry-sdk-1.0.0 shortuuid-1.0.1 smmap-4.0.0 subprocess32-3.5.4 wandb-0.10.28\n"
          ],
          "name": "stdout"
        }
      ]
    },
    {
      "cell_type": "code",
      "metadata": {
        "colab": {
          "base_uri": "https://localhost:8080/"
        },
        "id": "_cmEbH-Thewh",
        "outputId": "de01a868-41b2-4754-8eef-2f431b3cb311"
      },
      "source": [
        "# start training yolov5 model\n",
        "!python train.py --img 900 --batch 4 --epochs 20 --data ./data/whitefly.yaml --cfg ./models/yolov5x.yaml --weights yolov5x.pt --name yolov5x_whiteflyE20I800 --cache"
      ],
      "execution_count": null,
      "outputs": [
        {
          "output_type": "stream",
          "text": [
            "remote: Enumerating objects: 21, done.\u001b[K\n",
            "remote: Counting objects:   5% (1/20)\u001b[K\rremote: Counting objects:  10% (2/20)\u001b[K\rremote: Counting objects:  15% (3/20)\u001b[K\rremote: Counting objects:  20% (4/20)\u001b[K\rremote: Counting objects:  25% (5/20)\u001b[K\rremote: Counting objects:  30% (6/20)\u001b[K\rremote: Counting objects:  35% (7/20)\u001b[K\rremote: Counting objects:  40% (8/20)\u001b[K\rremote: Counting objects:  45% (9/20)\u001b[K\rremote: Counting objects:  50% (10/20)\u001b[K\rremote: Counting objects:  55% (11/20)\u001b[K\rremote: Counting objects:  60% (12/20)\u001b[K\rremote: Counting objects:  65% (13/20)\u001b[K\rremote: Counting objects:  70% (14/20)\u001b[K\rremote: Counting objects:  75% (15/20)\u001b[K\rremote: Counting objects:  80% (16/20)\u001b[K\rremote: Counting objects:  85% (17/20)\u001b[K\rremote: Counting objects:  90% (18/20)\u001b[K\rremote: Counting objects:  95% (19/20)\u001b[K\rremote: Counting objects: 100% (20/20)\u001b[K\rremote: Counting objects: 100% (20/20), done.\u001b[K\n",
            "remote: Compressing objects:  10% (1/10)\u001b[K\rremote: Compressing objects:  20% (2/10)\u001b[K\rremote: Compressing objects:  30% (3/10)\u001b[K\rremote: Compressing objects:  40% (4/10)\u001b[K\rremote: Compressing objects:  50% (5/10)\u001b[K\rremote: Compressing objects:  60% (6/10)\u001b[K\rremote: Compressing objects:  70% (7/10)\u001b[K\rremote: Compressing objects:  80% (8/10)\u001b[K\rremote: Compressing objects:  90% (9/10)\u001b[K\rremote: Compressing objects: 100% (10/10)\u001b[K\rremote: Compressing objects: 100% (10/10), done.\u001b[K\n",
            "remote: Total 21 (delta 11), reused 10 (delta 10), pack-reused 1\u001b[K\n",
            "Unpacking objects: 100% (21/21), done.\n",
            "From https://github.com/ultralytics/yolov5\n",
            "   33712d6..955eea8  master     -> origin/master\n",
            "\u001b[34m\u001b[1mgithub: \u001b[0m⚠️ WARNING: code is out of date by 13 commits. Use 'git pull' to update or 'git clone https://github.com/ultralytics/yolov5' to download latest.\n",
            "YOLOv5 🚀 2021-4-25 torch 1.8.1+cu101 CUDA:0 (Tesla T4, 15109.75MB)\n",
            "\n",
            "Namespace(adam=False, artifact_alias='latest', batch_size=4, bbox_interval=-1, bucket='', cache_images=True, cfg='./models/yolov5x.yaml', data='./data/whitefly.yaml', device='', entity=None, epochs=20, evolve=False, exist_ok=False, global_rank=-1, hyp='data/hyp.scratch.yaml', image_weights=False, img_size=[900, 900], label_smoothing=0.0, linear_lr=False, local_rank=-1, multi_scale=False, name='yolov5x_whiteflyE20I800', noautoanchor=False, nosave=False, notest=False, project='runs/train', quad=False, rect=False, resume=False, save_dir='runs/train/yolov5x_whiteflyE20I8003', save_period=-1, single_cls=False, sync_bn=False, total_batch_size=4, upload_dataset=False, weights='yolov5x.pt', workers=8, world_size=1)\n",
            "\u001b[34m\u001b[1mtensorboard: \u001b[0mStart with 'tensorboard --logdir runs/train', view at http://localhost:6006/\n",
            "2021-04-30 07:21:26.484099: I tensorflow/stream_executor/platform/default/dso_loader.cc:49] Successfully opened dynamic library libcudart.so.11.0\n",
            "\u001b[34m\u001b[1mhyperparameters: \u001b[0mlr0=0.01, lrf=0.2, momentum=0.937, weight_decay=0.0005, warmup_epochs=3.0, warmup_momentum=0.8, warmup_bias_lr=0.1, box=0.05, cls=0.5, cls_pw=1.0, obj=1.0, obj_pw=1.0, iou_t=0.2, anchor_t=4.0, fl_gamma=0.0, hsv_h=0.015, hsv_s=0.7, hsv_v=0.4, degrees=0.0, translate=0.1, scale=0.5, shear=0.0, perspective=0.0, flipud=0.0, fliplr=0.5, mosaic=1.0, mixup=0.0\n",
            "\u001b[34m\u001b[1mwandb\u001b[0m: (1) Create a W&B account\n",
            "\u001b[34m\u001b[1mwandb\u001b[0m: (2) Use an existing W&B account\n",
            "\u001b[34m\u001b[1mwandb\u001b[0m: (3) Don't visualize my results\n",
            "\u001b[34m\u001b[1mwandb\u001b[0m: Enter your choice: 2\n",
            "\u001b[34m\u001b[1mwandb\u001b[0m: You chose 'Use an existing W&B account'\n",
            "\u001b[34m\u001b[1mwandb\u001b[0m: You can find your API key in your browser here: https://wandb.ai/authorize\n",
            "\u001b[34m\u001b[1mwandb\u001b[0m: Paste an API key from your profile and hit enter: \n",
            "\u001b[34m\u001b[1mwandb\u001b[0m: Appending key for api.wandb.ai to your netrc file: /root/.netrc\n",
            "2021-04-30 07:23:11.348173: I tensorflow/stream_executor/platform/default/dso_loader.cc:49] Successfully opened dynamic library libcudart.so.11.0\n",
            "\u001b[34m\u001b[1mwandb\u001b[0m: Tracking run with wandb version 0.10.28\n",
            "\u001b[34m\u001b[1mwandb\u001b[0m: Syncing run \u001b[33myolov5x_whiteflyE20I8003\u001b[0m\n",
            "\u001b[34m\u001b[1mwandb\u001b[0m: ⭐️ View project at \u001b[34m\u001b[4mhttps://wandb.ai/ebiyau/YOLOv5\u001b[0m\n",
            "\u001b[34m\u001b[1mwandb\u001b[0m: 🚀 View run at \u001b[34m\u001b[4mhttps://wandb.ai/ebiyau/YOLOv5/runs/1aijr5fi\u001b[0m\n",
            "\u001b[34m\u001b[1mwandb\u001b[0m: Run data is saved locally in /content/drive/My Drive/yolov5/wandb/run-20210430_072310-1aijr5fi\n",
            "\u001b[34m\u001b[1mwandb\u001b[0m: Run `wandb offline` to turn off syncing.\n",
            "\n",
            "\n",
            "                 from  n    params  module                                  arguments                     \n",
            "  0                -1  1      8800  models.common.Focus                     [3, 80, 3]                    \n",
            "  1                -1  1    115520  models.common.Conv                      [80, 160, 3, 2]               \n",
            "  2                -1  1    309120  models.common.C3                        [160, 160, 4]                 \n",
            "  3                -1  1    461440  models.common.Conv                      [160, 320, 3, 2]              \n",
            "  4                -1  1   3285760  models.common.C3                        [320, 320, 12]                \n",
            "  5                -1  1   1844480  models.common.Conv                      [320, 640, 3, 2]              \n",
            "  6                -1  1  13125120  models.common.C3                        [640, 640, 12]                \n",
            "  7                -1  1   7375360  models.common.Conv                      [640, 1280, 3, 2]             \n",
            "  8                -1  1   4099840  models.common.SPP                       [1280, 1280, [5, 9, 13]]      \n",
            "  9                -1  1  19676160  models.common.C3                        [1280, 1280, 4, False]        \n",
            " 10                -1  1    820480  models.common.Conv                      [1280, 640, 1, 1]             \n",
            " 11                -1  1         0  torch.nn.modules.upsampling.Upsample    [None, 2, 'nearest']          \n",
            " 12           [-1, 6]  1         0  models.common.Concat                    [1]                           \n",
            " 13                -1  1   5332480  models.common.C3                        [1280, 640, 4, False]         \n",
            " 14                -1  1    205440  models.common.Conv                      [640, 320, 1, 1]              \n",
            " 15                -1  1         0  torch.nn.modules.upsampling.Upsample    [None, 2, 'nearest']          \n",
            " 16           [-1, 4]  1         0  models.common.Concat                    [1]                           \n",
            " 17                -1  1   1335040  models.common.C3                        [640, 320, 4, False]          \n",
            " 18                -1  1    922240  models.common.Conv                      [320, 320, 3, 2]              \n",
            " 19          [-1, 14]  1         0  models.common.Concat                    [1]                           \n",
            " 20                -1  1   4922880  models.common.C3                        [640, 640, 4, False]          \n",
            " 21                -1  1   3687680  models.common.Conv                      [640, 640, 3, 2]              \n",
            " 22          [-1, 10]  1         0  models.common.Concat                    [1]                           \n",
            " 23                -1  1  19676160  models.common.C3                        [1280, 1280, 4, False]        \n",
            " 24      [17, 20, 23]  1     40374  models.yolo.Detect                      [1, [[10, 13, 16, 30, 33, 23], [30, 61, 62, 45, 59, 119], [116, 90, 156, 198, 373, 326]], [320, 640, 1280]]\n",
            "Model Summary: 607 layers, 87244374 parameters, 87244374 gradients, 217.3 GFLOPS\n",
            "\n",
            "Transferred 786/794 items from yolov5x.pt\n",
            "Scaled weight_decay = 0.0005\n",
            "Optimizer groups: 134 .bias, 134 conv.weight, 131 other\n",
            "WARNING: --img-size 900 must be multiple of max stride 32, updating to 928\n",
            "WARNING: --img-size 900 must be multiple of max stride 32, updating to 928\n",
            "\u001b[34m\u001b[1mtrain: \u001b[0mScanning '../data/labels/train.cache' images and labels... 3173 found, 0 \u001b[0m\n",
            "\u001b[34m\u001b[1mtrain: \u001b[0mCaching images (3.9GB): 100%|████████| 3172/3172 [08:08<00:00,  6.49it/s]\u001b[0m\n",
            "\u001b[34m\u001b[1mval: \u001b[0mScanning '../data/labels/valid.cache' images and labels... 1369 found, 0 mi\u001b[0m\n",
            "\u001b[34m\u001b[1mval: \u001b[0mCaching images (1.7GB): 100%|██████████| 1369/1369 [04:15<00:00,  5.35it/s]\u001b[0m\n",
            "Plotting labels... \n",
            "\n",
            "\u001b[34m\u001b[1mautoanchor: \u001b[0mAnalyzing anchors... anchors/target = 1.21, Best Possible Recall (BPR) = 0.8697. Attempting to improve anchors, please wait...\n",
            "\u001b[34m\u001b[1mautoanchor: \u001b[0mWARNING: Extremely small objects found. 22125 of 181828 labels are < 3 pixels in size.\n",
            "\u001b[34m\u001b[1mautoanchor: \u001b[0mRunning kmeans for 9 anchors on 181824 points...\n",
            "\u001b[34m\u001b[1mautoanchor: \u001b[0mthr=0.25: 1.0000 best possible recall, 8.31 anchors past thr\n",
            "\u001b[34m\u001b[1mautoanchor: \u001b[0mn=9, img_size=928, metric_all=0.539/0.845-mean/best, past_thr=0.567-mean: 3,4,  5,3,  3,6,  5,5,  7,5,  5,7,  8,9,  11,12,  16,16\n",
            "\u001b[34m\u001b[1mautoanchor: \u001b[0mEvolving anchors with Genetic Algorithm: fitness = 0.8496: 100%|█| 1\u001b[0m\n",
            "\u001b[34m\u001b[1mautoanchor: \u001b[0mthr=0.25: 1.0000 best possible recall, 8.46 anchors past thr\n",
            "\u001b[34m\u001b[1mautoanchor: \u001b[0mn=9, img_size=928, metric_all=0.553/0.850-mean/best, past_thr=0.575-mean: 3,4,  5,3,  3,5,  5,5,  5,6,  7,5,  7,8,  10,11,  14,15\n",
            "\u001b[34m\u001b[1mautoanchor: \u001b[0mNew anchors saved to model. Update model *.yaml to use these anchors in the future.\n",
            "\n",
            "Image sizes 928 train, 928 test\n",
            "Using 2 dataloader workers\n",
            "Logging results to runs/train/yolov5x_whiteflyE20I8003\n",
            "Starting training for 20 epochs...\n",
            "\n",
            "     Epoch   gpu_mem       box       obj       cls     total    labels  img_size\n",
            "      0/19     10.8G    0.1583    0.1031         0    0.2614       316       928\n",
            "               Class      Images      Labels           P           R      mAP@.5\n",
            "               Class      Images      Labels           P           R      mAP@.5\n",
            "                 all        1369       11909       0.174       0.462       0.122      0.0218\n",
            "Images sizes do not match. This will causes images to be display incorrectly in the UI.\n",
            "\n",
            "     Epoch   gpu_mem       box       obj       cls     total    labels  img_size\n",
            "      1/19     10.6G    0.1364    0.1457         0    0.2821       205       928\n",
            "               Class      Images      Labels           P           R      mAP@.5\n",
            "                 all        1369       11909       0.338       0.473       0.267      0.0641\n",
            "\n",
            "     Epoch   gpu_mem       box       obj       cls     total    labels  img_size\n",
            "      2/19     10.6G    0.1341    0.1633         0    0.2974       473       928\n",
            "               Class      Images      Labels           P           R      mAP@.5\n",
            "                 all        1369       11909      0.0699      0.0727      0.0104     0.00188\n",
            "\n",
            "     Epoch   gpu_mem       box       obj       cls     total    labels  img_size\n",
            "      3/19     10.6G     0.132     0.167         0    0.2989       746       928\n",
            "               Class      Images      Labels           P           R      mAP@.5\n",
            "                 all        1369       11909       0.353       0.357       0.237      0.0527\n",
            "\n",
            "     Epoch   gpu_mem       box       obj       cls     total    labels  img_size\n",
            "      4/19     10.6G    0.1256    0.1724         0     0.298       605       928\n",
            "               Class      Images      Labels           P           R      mAP@.5\n",
            "                 all        1369       11909       0.405       0.504       0.321      0.0752\n",
            "\n",
            "     Epoch   gpu_mem       box       obj       cls     total    labels  img_size\n",
            "      5/19     10.6G    0.1226     0.178         0    0.3006       614       928\n",
            "               Class      Images      Labels           P           R      mAP@.5\n",
            "                 all        1369       11909       0.365       0.415       0.242      0.0658\n",
            "\n",
            "     Epoch   gpu_mem       box       obj       cls     total    labels  img_size\n",
            "      6/19     10.6G    0.1215    0.1812         0    0.3027       414       928\n",
            "               Class      Images      Labels           P           R      mAP@.5\n",
            "                 all        1369       11909       0.389       0.519       0.314      0.0839\n",
            "\n",
            "     Epoch   gpu_mem       box       obj       cls     total    labels  img_size\n",
            "      7/19     10.6G    0.1205     0.182         0    0.3025       359       928\n",
            "               Class      Images      Labels           P           R      mAP@.5\n",
            "                 all        1369       11909       0.346       0.528       0.287      0.0792\n",
            "\n",
            "     Epoch   gpu_mem       box       obj       cls     total    labels  img_size\n",
            "      8/19     10.6G    0.1192    0.1851         0    0.3043       614       928\n",
            "               Class      Images      Labels           P           R      mAP@.5\n",
            "                 all        1369       11909       0.425       0.597       0.378       0.106\n",
            "\n",
            "     Epoch   gpu_mem       box       obj       cls     total    labels  img_size\n",
            "      9/19     10.6G    0.1185    0.1824         0    0.3009       547       928\n",
            "               Class      Images      Labels           P           R      mAP@.5\n",
            "                 all        1369       11909       0.401       0.503       0.318      0.0885\n",
            "\n",
            "     Epoch   gpu_mem       box       obj       cls     total    labels  img_size\n",
            "     10/19     10.6G    0.1172    0.1812         0    0.2984       182       928\n",
            "               Class      Images      Labels           P           R      mAP@.5\n",
            "                 all        1369       11909       0.446        0.54       0.366       0.108\n",
            "\n",
            "     Epoch   gpu_mem       box       obj       cls     total    labels  img_size\n",
            "     11/19     10.6G    0.1167    0.1859         0    0.3025       343       928\n",
            "               Class      Images      Labels           P           R      mAP@.5\n",
            "                 all        1369       11909       0.435       0.481       0.312      0.0851\n",
            "\n",
            "     Epoch   gpu_mem       box       obj       cls     total    labels  img_size\n",
            "     12/19     10.6G    0.1155    0.1825         0     0.298       495       928\n",
            "               Class      Images      Labels           P           R      mAP@.5\n",
            "                 all        1369       11909       0.397       0.513       0.304      0.0864\n",
            "\n",
            "     Epoch   gpu_mem       box       obj       cls     total    labels  img_size\n",
            "     13/19     10.6G    0.1148    0.1851         0    0.2999       182       928\n",
            "               Class      Images      Labels           P           R      mAP@.5\n",
            "                 all        1369       11909       0.402        0.49       0.294      0.0831\n",
            "\n",
            "     Epoch   gpu_mem       box       obj       cls     total    labels  img_size\n",
            "     14/19     10.6G    0.1141    0.1828         0    0.2969       668       928\n",
            "               Class      Images      Labels           P           R      mAP@.5\n",
            "                 all        1369       11909       0.488       0.505       0.345       0.102\n",
            "\n",
            "     Epoch   gpu_mem       box       obj       cls     total    labels  img_size\n",
            "     15/19     10.6G    0.1134     0.181         0    0.2944       349       928\n",
            "               Class      Images      Labels           P           R      mAP@.5\n",
            "                 all        1369       11909       0.449       0.495       0.326      0.0923\n",
            "\n",
            "     Epoch   gpu_mem       box       obj       cls     total    labels  img_size\n",
            "     16/19     10.6G    0.1132    0.1808         0     0.294       375       928\n",
            "               Class      Images      Labels           P           R      mAP@.5\n",
            "                 all        1369       11909       0.467       0.487       0.341      0.0982\n",
            "\n",
            "     Epoch   gpu_mem       box       obj       cls     total    labels  img_size\n",
            "     17/19     10.6G    0.1133    0.1822         0    0.2955       177       928\n",
            "               Class      Images      Labels           P           R      mAP@.5\n",
            "                 all        1369       11909       0.453       0.477       0.307      0.0874\n",
            "\n",
            "     Epoch   gpu_mem       box       obj       cls     total    labels  img_size\n",
            "     18/19     10.6G    0.1131    0.1832         0    0.2963       507       928\n",
            "               Class      Images      Labels           P           R      mAP@.5\n",
            "                 all        1369       11909       0.487       0.478        0.35       0.104\n",
            "\n",
            "     Epoch   gpu_mem       box       obj       cls     total    labels  img_size\n",
            "     19/19     10.6G    0.1124    0.1802         0    0.2926       526       928\n",
            "               Class      Images      Labels           P           R      mAP@.5\n",
            "                 all        1369       11909       0.495       0.491       0.339       0.101\n",
            "20 epochs completed in 3.557 hours.\n",
            "\n",
            "Optimizer stripped from runs/train/yolov5x_whiteflyE20I8003/weights/last.pt, 175.1MB\n",
            "Optimizer stripped from runs/train/yolov5x_whiteflyE20I8003/weights/best.pt, 175.1MB\n",
            "Images sizes do not match. This will causes images to be display incorrectly in the UI.\n",
            "\n",
            "\u001b[34m\u001b[1mwandb\u001b[0m: Waiting for W&B process to finish, PID 335\n",
            "\u001b[34m\u001b[1mwandb\u001b[0m: Program ended successfully.\n",
            "\u001b[34m\u001b[1mwandb\u001b[0m:                                                                                \n",
            "\u001b[34m\u001b[1mwandb\u001b[0m: Find user logs for this run at: /content/drive/My Drive/yolov5/wandb/run-20210430_072310-1aijr5fi/logs/debug.log\n",
            "\u001b[34m\u001b[1mwandb\u001b[0m: Find internal logs for this run at: /content/drive/My Drive/yolov5/wandb/run-20210430_072310-1aijr5fi/logs/debug-internal.log\n",
            "\u001b[34m\u001b[1mwandb\u001b[0m: Run summary:\n",
            "\u001b[34m\u001b[1mwandb\u001b[0m:                 train/box_loss 0.11237\n",
            "\u001b[34m\u001b[1mwandb\u001b[0m:                 train/obj_loss 0.18019\n",
            "\u001b[34m\u001b[1mwandb\u001b[0m:                 train/cls_loss 0.0\n",
            "\u001b[34m\u001b[1mwandb\u001b[0m:              metrics/precision 0.49489\n",
            "\u001b[34m\u001b[1mwandb\u001b[0m:                 metrics/recall 0.49089\n",
            "\u001b[34m\u001b[1mwandb\u001b[0m:                metrics/mAP_0.5 0.33931\n",
            "\u001b[34m\u001b[1mwandb\u001b[0m:           metrics/mAP_0.5:0.95 0.10112\n",
            "\u001b[34m\u001b[1mwandb\u001b[0m:                   val/box_loss 0.0843\n",
            "\u001b[34m\u001b[1mwandb\u001b[0m:                   val/obj_loss 0.07604\n",
            "\u001b[34m\u001b[1mwandb\u001b[0m:                   val/cls_loss 0.0\n",
            "\u001b[34m\u001b[1mwandb\u001b[0m:                          x/lr0 0.0022\n",
            "\u001b[34m\u001b[1mwandb\u001b[0m:                          x/lr1 0.0022\n",
            "\u001b[34m\u001b[1mwandb\u001b[0m:                          x/lr2 0.0022\n",
            "\u001b[34m\u001b[1mwandb\u001b[0m:                       _runtime 13704\n",
            "\u001b[34m\u001b[1mwandb\u001b[0m:                     _timestamp 1619781094\n",
            "\u001b[34m\u001b[1mwandb\u001b[0m:                          _step 20\n",
            "\u001b[34m\u001b[1mwandb\u001b[0m: Run history:\n",
            "\u001b[34m\u001b[1mwandb\u001b[0m:         train/box_loss █▅▄▄▃▃▂▂▂▂▂▂▁▁▁▁▁▁▁▁\n",
            "\u001b[34m\u001b[1mwandb\u001b[0m:         train/obj_loss ▁▅▆▆▇▇██████████████\n",
            "\u001b[34m\u001b[1mwandb\u001b[0m:         train/cls_loss ▁▁▁▁▁▁▁▁▁▁▁▁▁▁▁▁▁▁▁▁\n",
            "\u001b[34m\u001b[1mwandb\u001b[0m:      metrics/precision ▃▅▁▆▇▆▆▆▇▆▇▇▆▆█▇█▇██\n",
            "\u001b[34m\u001b[1mwandb\u001b[0m:         metrics/recall ▆▆▁▅▇▆▇▇█▇▇▆▇▇▇▇▇▆▆▇\n",
            "\u001b[34m\u001b[1mwandb\u001b[0m:        metrics/mAP_0.5 ▃▆▁▅▇▅▇▆█▇█▇▇▆▇▇▇▇▇▇\n",
            "\u001b[34m\u001b[1mwandb\u001b[0m:   metrics/mAP_0.5:0.95 ▂▅▁▄▆▅▆▆█▇█▇▇▆█▇▇▇██\n",
            "\u001b[34m\u001b[1mwandb\u001b[0m:           val/box_loss ▄▃█▂▂▂▁▁▁▁▁▁▁▁▁▁▁▁▁▁\n",
            "\u001b[34m\u001b[1mwandb\u001b[0m:           val/obj_loss ▁▄█▆▅▅▅▆▅▆▅▅▅▅▆▆▅▆▅▆\n",
            "\u001b[34m\u001b[1mwandb\u001b[0m:           val/cls_loss ▁▁▁▁▁▁▁▁▁▁▁▁▁▁▁▁▁▁▁▁\n",
            "\u001b[34m\u001b[1mwandb\u001b[0m:                  x/lr0 ▂▅███▇▇▇▆▆▅▅▄▃▃▂▂▂▁▁\n",
            "\u001b[34m\u001b[1mwandb\u001b[0m:                  x/lr1 ▂▅███▇▇▇▆▆▅▅▄▃▃▂▂▂▁▁\n",
            "\u001b[34m\u001b[1mwandb\u001b[0m:                  x/lr2 █▅▂▂▂▂▂▂▂▂▁▁▁▁▁▁▁▁▁▁\n",
            "\u001b[34m\u001b[1mwandb\u001b[0m:               _runtime ▁▁▂▂▂▃▃▄▄▄▅▅▅▆▆▇▇▇███\n",
            "\u001b[34m\u001b[1mwandb\u001b[0m:             _timestamp ▁▁▂▂▂▃▃▄▄▄▅▅▅▆▆▇▇▇███\n",
            "\u001b[34m\u001b[1mwandb\u001b[0m:                  _step ▁▁▂▂▂▃▃▃▄▄▅▅▅▆▆▆▇▇▇██\n",
            "\u001b[34m\u001b[1mwandb\u001b[0m: \n",
            "\u001b[34m\u001b[1mwandb\u001b[0m: Synced 5 W&B file(s), 337 media file(s), 1 artifact file(s) and 0 other file(s)\n",
            "\u001b[34m\u001b[1mwandb\u001b[0m: \n",
            "\u001b[34m\u001b[1mwandb\u001b[0m: Synced \u001b[33myolov5x_whiteflyE20I8003\u001b[0m: \u001b[34mhttps://wandb.ai/ebiyau/YOLOv5/runs/1aijr5fi\u001b[0m\n"
          ],
          "name": "stdout"
        }
      ]
    },
    {
      "cell_type": "code",
      "metadata": {
        "colab": {
          "base_uri": "https://localhost:8080/",
          "height": 34
        },
        "collapsed": true,
        "id": "4KpTUXQWKyjj",
        "outputId": "1a7d10c8-bb60-4b69-9165-5ff2d9616989"
      },
      "source": [
        "%tensorboard --logdir /runs"
      ],
      "execution_count": null,
      "outputs": [
        {
          "output_type": "display_data",
          "data": {
            "text/plain": [
              "Launching TensorBoard..."
            ]
          },
          "metadata": {
            "tags": []
          }
        }
      ]
    },
    {
      "cell_type": "code",
      "metadata": {
        "colab": {
          "base_uri": "https://localhost:8080/"
        },
        "id": "cI38A947yzPf",
        "outputId": "b690ce79-9cc6-4fc2-d03a-934917c24392"
      },
      "source": [
        "%cd '/content/drive/MyDrive/yolov5/'"
      ],
      "execution_count": null,
      "outputs": [
        {
          "output_type": "stream",
          "text": [
            "/content/drive/MyDrive/yolov5\n"
          ],
          "name": "stdout"
        }
      ]
    },
    {
      "cell_type": "code",
      "metadata": {
        "id": "mTbY1QmYqebv",
        "colab": {
          "base_uri": "https://localhost:8080/"
        },
        "outputId": "8bf92e30-b8a9-4dbc-f10c-b94601c4437c"
      },
      "source": [
        "#test the model with new images\n",
        "!python detect.py --weights runs/train/yolov5x_whiteflyE20v2/weights/best.pt  --img 640 --conf 0.4 --source ../data/testing/"
      ],
      "execution_count": 6,
      "outputs": [
        {
          "output_type": "stream",
          "text": [
            "Namespace(agnostic_nms=False, augment=False, classes=None, conf_thres=0.4, device='', exist_ok=False, hide_conf=False, hide_labels=False, img_size=640, iou_thres=0.45, line_thickness=3, name='exp', nosave=False, project='runs/detect', save_conf=False, save_crop=False, save_txt=False, source='../data/testing/', update=False, view_img=False, weights=['runs/train/yolov5x_whiteflyE20v2/weights/best.pt'])\n",
            "YOLOv5 🚀 2021-4-25 torch 1.8.1+cu101 CPU\n",
            "\n",
            "Fusing layers... \n",
            "Model Summary: 476 layers, 87198694 parameters, 0 gradients, 217.1 GFLOPS\n",
            "image 1/100 /content/drive/My Drive/yolov5/../data/testing/IMG_20190313_015216_2.jpg: 640x320 40 whiteflys, Done. (2.394s)\n",
            "image 2/100 /content/drive/My Drive/yolov5/../data/testing/IMG_20190313_015231_6.jpg: 640x320 45 whiteflys, Done. (2.237s)\n",
            "image 3/100 /content/drive/My Drive/yolov5/../data/testing/IMG_20190313_015243_4.jpg: 640x320 42 whiteflys, Done. (2.240s)\n",
            "image 4/100 /content/drive/My Drive/yolov5/../data/testing/IMG_20190313_015254_9.jpg: 640x320 45 whiteflys, Done. (2.213s)\n",
            "image 5/100 /content/drive/My Drive/yolov5/../data/testing/IMG_20190313_015306_0.jpg: 640x320 17 whiteflys, Done. (2.180s)\n",
            "image 6/100 /content/drive/My Drive/yolov5/../data/testing/IMG_20190313_015327_8.jpg: 320x640 7 whiteflys, Done. (2.222s)\n",
            "image 7/100 /content/drive/My Drive/yolov5/../data/testing/IMG_20190313_015341_2.jpg: 320x640 19 whiteflys, Done. (2.247s)\n",
            "image 8/100 /content/drive/My Drive/yolov5/../data/testing/IMG_20190313_015404_4.jpg: 320x640 Done. (2.234s)\n",
            "image 9/100 /content/drive/My Drive/yolov5/../data/testing/IMG_20190313_015413_1.jpg: 320x640 23 whiteflys, Done. (2.148s)\n",
            "image 10/100 /content/drive/My Drive/yolov5/../data/testing/IMG_20190313_015427_1.jpg: 320x640 11 whiteflys, Done. (2.184s)\n",
            "image 11/100 /content/drive/My Drive/yolov5/../data/testing/IMG_20190313_015439_1.jpg: 320x640 11 whiteflys, Done. (2.156s)\n",
            "image 12/100 /content/drive/My Drive/yolov5/../data/testing/IMG_20190313_015843_0.jpg: 320x640 47 whiteflys, Done. (2.159s)\n",
            "image 13/100 /content/drive/My Drive/yolov5/../data/testing/IMG_20190313_015901_6.jpg: 640x320 34 whiteflys, Done. (2.294s)\n",
            "image 14/100 /content/drive/My Drive/yolov5/../data/testing/IMG_20190313_015910_6.jpg: 640x320 27 whiteflys, Done. (2.229s)\n",
            "image 15/100 /content/drive/My Drive/yolov5/../data/testing/IMG_20190313_015920_3.jpg: 320x640 15 whiteflys, Done. (2.158s)\n",
            "image 16/100 /content/drive/My Drive/yolov5/../data/testing/IMG_20190313_015930_2.jpg: 320x640 101 whiteflys, Done. (2.170s)\n",
            "image 17/100 /content/drive/My Drive/yolov5/../data/testing/IMG_20190313_015943_1.jpg: 320x640 38 whiteflys, Done. (2.196s)\n",
            "image 18/100 /content/drive/My Drive/yolov5/../data/testing/IMG_20190313_020017_7.jpg: 320x640 60 whiteflys, Done. (2.275s)\n",
            "image 19/100 /content/drive/My Drive/yolov5/../data/testing/IMG_20190313_020037_4.jpg: 320x640 91 whiteflys, Done. (2.255s)\n",
            "image 20/100 /content/drive/My Drive/yolov5/../data/testing/IMG_20190313_020100_1.jpg: 320x640 25 whiteflys, Done. (2.242s)\n",
            "image 21/100 /content/drive/My Drive/yolov5/../data/testing/IMG_20190313_020116_6.jpg: 320x640 19 whiteflys, Done. (2.185s)\n",
            "image 22/100 /content/drive/My Drive/yolov5/../data/testing/IMG_20190313_020150_7.jpg: 640x320 1 whitefly, Done. (2.259s)\n",
            "image 23/100 /content/drive/My Drive/yolov5/../data/testing/IMG_20190313_020209_0.jpg: 640x320 6 whiteflys, Done. (2.322s)\n",
            "image 24/100 /content/drive/My Drive/yolov5/../data/testing/IMG_20190313_020214_6.jpg: 640x320 37 whiteflys, Done. (2.349s)\n",
            "image 25/100 /content/drive/My Drive/yolov5/../data/testing/IMG_20190313_020223_3.jpg: 640x320 7 whiteflys, Done. (2.401s)\n",
            "image 26/100 /content/drive/My Drive/yolov5/../data/testing/IMG_20190313_020230_7.jpg: 640x320 15 whiteflys, Done. (2.291s)\n",
            "image 27/100 /content/drive/My Drive/yolov5/../data/testing/IMG_20190313_020240_9.jpg: 320x640 29 whiteflys, Done. (2.343s)\n",
            "image 28/100 /content/drive/My Drive/yolov5/../data/testing/IMG_20190313_020254_6.jpg: 320x640 21 whiteflys, Done. (2.278s)\n",
            "image 29/100 /content/drive/My Drive/yolov5/../data/testing/IMG_20190313_020301_7.jpg: 320x640 9 whiteflys, Done. (2.247s)\n",
            "image 30/100 /content/drive/My Drive/yolov5/../data/testing/IMG_20190313_020310_0.jpg: 320x640 5 whiteflys, Done. (2.254s)\n",
            "image 31/100 /content/drive/My Drive/yolov5/../data/testing/IMG_20190313_020324_5.jpg: 640x320 5 whiteflys, Done. (2.265s)\n",
            "image 32/100 /content/drive/My Drive/yolov5/../data/testing/IMG_20190313_020342_4.jpg: 640x320 17 whiteflys, Done. (2.243s)\n",
            "image 33/100 /content/drive/My Drive/yolov5/../data/testing/IMG_20190313_020352_1.jpg: 640x320 10 whiteflys, Done. (2.377s)\n",
            "image 34/100 /content/drive/My Drive/yolov5/../data/testing/IMG_20190313_020400_4.jpg: 640x320 10 whiteflys, Done. (2.380s)\n",
            "image 35/100 /content/drive/My Drive/yolov5/../data/testing/IMG_20190313_020410_8.jpg: 640x320 18 whiteflys, Done. (2.355s)\n",
            "image 36/100 /content/drive/My Drive/yolov5/../data/testing/IMG_20190313_020433_0.jpg: 320x640 16 whiteflys, Done. (2.173s)\n",
            "image 37/100 /content/drive/My Drive/yolov5/../data/testing/IMG_20190313_020445_7.jpg: 640x320 31 whiteflys, Done. (2.305s)\n",
            "image 38/100 /content/drive/My Drive/yolov5/../data/testing/IMG_20190313_020452_3.jpg: 640x320 97 whiteflys, Done. (2.314s)\n",
            "image 39/100 /content/drive/My Drive/yolov5/../data/testing/IMG_20190313_020459_8.jpg: 640x320 7 whiteflys, Done. (2.255s)\n",
            "image 40/100 /content/drive/My Drive/yolov5/../data/testing/IMG_20190313_020512_2.jpg: 640x320 43 whiteflys, Done. (2.275s)\n",
            "image 41/100 /content/drive/My Drive/yolov5/../data/testing/IMG_20190313_020527_0.jpg: 320x640 6 whiteflys, Done. (2.158s)\n",
            "image 42/100 /content/drive/My Drive/yolov5/../data/testing/IMG_20190313_020542_4.jpg: 320x640 12 whiteflys, Done. (2.142s)\n",
            "image 43/100 /content/drive/My Drive/yolov5/../data/testing/IMG_20190313_020549_8.jpg: 320x640 52 whiteflys, Done. (2.176s)\n",
            "image 44/100 /content/drive/My Drive/yolov5/../data/testing/IMG_20190313_020556_2.jpg: 320x640 2 whiteflys, Done. (2.153s)\n",
            "image 45/100 /content/drive/My Drive/yolov5/../data/testing/IMG_20190313_020604_4.jpg: 320x640 11 whiteflys, Done. (2.160s)\n",
            "image 46/100 /content/drive/My Drive/yolov5/../data/testing/IMG_20190313_020612_2.jpg: 320x640 11 whiteflys, Done. (2.208s)\n",
            "image 47/100 /content/drive/My Drive/yolov5/../data/testing/IMG_20190313_020618_2.jpg: 320x640 35 whiteflys, Done. (2.185s)\n",
            "image 48/100 /content/drive/My Drive/yolov5/../data/testing/IMG_20190313_020627_6.jpg: 320x640 6 whiteflys, Done. (2.134s)\n",
            "image 49/100 /content/drive/My Drive/yolov5/../data/testing/IMG_20190313_020644_5.jpg: 320x640 15 whiteflys, Done. (2.174s)\n",
            "image 50/100 /content/drive/My Drive/yolov5/../data/testing/IMG_20190313_020654_8.jpg: 320x640 33 whiteflys, Done. (2.267s)\n",
            "image 51/100 /content/drive/My Drive/yolov5/../data/testing/IMG_20190313_020705_6.jpg: 640x320 8 whiteflys, Done. (2.384s)\n",
            "image 52/100 /content/drive/My Drive/yolov5/../data/testing/IMG_20190313_020716_2.jpg: 320x640 9 whiteflys, Done. (2.232s)\n",
            "image 53/100 /content/drive/My Drive/yolov5/../data/testing/IMG_20190313_020729_1.jpg: 640x320 8 whiteflys, Done. (2.371s)\n",
            "image 54/100 /content/drive/My Drive/yolov5/../data/testing/IMG_20190313_020738_4.jpg: 640x320 19 whiteflys, Done. (2.330s)\n",
            "image 55/100 /content/drive/My Drive/yolov5/../data/testing/IMG_20190313_020748_2.jpg: 320x640 29 whiteflys, Done. (2.193s)\n",
            "image 56/100 /content/drive/My Drive/yolov5/../data/testing/IMG_20190313_020802_0.jpg: 320x640 23 whiteflys, Done. (2.259s)\n",
            "image 57/100 /content/drive/My Drive/yolov5/../data/testing/IMG_20190313_020811_6.jpg: 640x320 7 whiteflys, Done. (2.246s)\n",
            "image 58/100 /content/drive/My Drive/yolov5/../data/testing/IMG_20190313_020829_8.jpg: 640x320 13 whiteflys, Done. (2.229s)\n",
            "image 59/100 /content/drive/My Drive/yolov5/../data/testing/IMG_20190313_020842_1.jpg: 320x640 12 whiteflys, Done. (2.190s)\n",
            "image 60/100 /content/drive/My Drive/yolov5/../data/testing/IMG_20190313_020852_6.jpg: 320x640 11 whiteflys, Done. (2.165s)\n",
            "image 61/100 /content/drive/My Drive/yolov5/../data/testing/IMG_20190313_020904_9.jpg: 320x640 11 whiteflys, Done. (2.183s)\n",
            "image 62/100 /content/drive/My Drive/yolov5/../data/testing/IMG_20190313_020935_0.jpg: 320x640 5 whiteflys, Done. (2.166s)\n",
            "image 63/100 /content/drive/My Drive/yolov5/../data/testing/IMG_20190313_020944_7.jpg: 640x320 2 whiteflys, Done. (2.247s)\n",
            "image 64/100 /content/drive/My Drive/yolov5/../data/testing/IMG_20190313_020954_4.jpg: 640x320 27 whiteflys, Done. (2.253s)\n",
            "image 65/100 /content/drive/My Drive/yolov5/../data/testing/IMG_20190313_021011_9.jpg: 320x640 11 whiteflys, Done. (2.154s)\n",
            "image 66/100 /content/drive/My Drive/yolov5/../data/testing/IMG_20190313_021020_3.jpg: 640x320 18 whiteflys, Done. (2.217s)\n",
            "image 67/100 /content/drive/My Drive/yolov5/../data/testing/IMG_20190313_021032_4.jpg: 640x320 19 whiteflys, Done. (2.231s)\n",
            "image 68/100 /content/drive/My Drive/yolov5/../data/testing/IMG_20190313_021046_1.jpg: 320x640 15 whiteflys, Done. (2.157s)\n",
            "image 69/100 /content/drive/My Drive/yolov5/../data/testing/IMG_20190313_021057_4.jpg: 320x640 9 whiteflys, Done. (2.207s)\n",
            "image 70/100 /content/drive/My Drive/yolov5/../data/testing/IMG_20190313_021116_2.jpg: 320x640 14 whiteflys, Done. (2.225s)\n",
            "image 71/100 /content/drive/My Drive/yolov5/../data/testing/IMG_20190313_021141_4.jpg: 320x640 Done. (2.165s)\n",
            "image 72/100 /content/drive/My Drive/yolov5/../data/testing/IMG_20190313_021153_3.jpg: 320x640 6 whiteflys, Done. (2.191s)\n",
            "image 73/100 /content/drive/My Drive/yolov5/../data/testing/IMG_20190313_021205_4.jpg: 320x640 7 whiteflys, Done. (2.248s)\n",
            "image 74/100 /content/drive/My Drive/yolov5/../data/testing/IMG_20190313_021214_6.jpg: 640x320 13 whiteflys, Done. (2.279s)\n",
            "image 75/100 /content/drive/My Drive/yolov5/../data/testing/IMG_20190313_021221_3.jpg: 320x640 23 whiteflys, Done. (2.224s)\n",
            "image 76/100 /content/drive/My Drive/yolov5/../data/testing/IMG_20190313_021233_7.jpg: 640x320 34 whiteflys, Done. (2.251s)\n",
            "image 77/100 /content/drive/My Drive/yolov5/../data/testing/IMG_20190313_021239_4.jpg: 640x320 13 whiteflys, Done. (2.229s)\n",
            "image 78/100 /content/drive/My Drive/yolov5/../data/testing/IMG_20190313_021248_8.jpg: 640x320 22 whiteflys, Done. (2.275s)\n",
            "image 79/100 /content/drive/My Drive/yolov5/../data/testing/IMG_20190313_021308_4.jpg: 640x320 12 whiteflys, Done. (2.288s)\n",
            "image 80/100 /content/drive/My Drive/yolov5/../data/testing/IMG_20190313_021318_8.jpg: 640x320 16 whiteflys, Done. (2.248s)\n",
            "image 81/100 /content/drive/My Drive/yolov5/../data/testing/IMG_20190313_021330_1.jpg: 640x320 41 whiteflys, Done. (2.245s)\n",
            "image 82/100 /content/drive/My Drive/yolov5/../data/testing/IMG_20190313_021339_3.jpg: 640x320 42 whiteflys, Done. (2.323s)\n",
            "image 83/100 /content/drive/My Drive/yolov5/../data/testing/IMG_20190313_021350_0.jpg: 640x320 9 whiteflys, Done. (2.310s)\n",
            "image 84/100 /content/drive/My Drive/yolov5/../data/testing/IMG_20190313_021404_2.jpg: 320x640 29 whiteflys, Done. (2.208s)\n",
            "image 85/100 /content/drive/My Drive/yolov5/../data/testing/IMG_20190313_021433_2.jpg: 320x640 30 whiteflys, Done. (2.203s)\n",
            "image 86/100 /content/drive/My Drive/yolov5/../data/testing/IMG_20190313_021440_7.jpg: 320x640 43 whiteflys, Done. (2.120s)\n",
            "image 87/100 /content/drive/My Drive/yolov5/../data/testing/IMG_20190313_021451_6.jpg: 320x640 27 whiteflys, Done. (2.216s)\n",
            "image 88/100 /content/drive/My Drive/yolov5/../data/testing/IMG_20190313_021459_5.jpg: 320x640 16 whiteflys, Done. (2.150s)\n",
            "image 89/100 /content/drive/My Drive/yolov5/../data/testing/IMG_20190313_021513_8.jpg: 320x640 45 whiteflys, Done. (2.128s)\n",
            "image 90/100 /content/drive/My Drive/yolov5/../data/testing/IMG_20190313_021521_4.jpg: 320x640 31 whiteflys, Done. (2.130s)\n",
            "image 91/100 /content/drive/My Drive/yolov5/../data/testing/IMG_20190313_021542_8.jpg: 320x640 45 whiteflys, Done. (2.131s)\n",
            "image 92/100 /content/drive/My Drive/yolov5/../data/testing/IMG_20190313_021615_0.jpg: 320x640 152 whiteflys, Done. (2.151s)\n",
            "image 93/100 /content/drive/My Drive/yolov5/../data/testing/IMG_20190313_021627_2.jpg: 320x640 93 whiteflys, Done. (2.176s)\n",
            "image 94/100 /content/drive/My Drive/yolov5/../data/testing/IMG_20190313_021637_9.jpg: 320x640 42 whiteflys, Done. (2.156s)\n",
            "image 95/100 /content/drive/My Drive/yolov5/../data/testing/IMG_20190313_021653_1.jpg: 320x640 94 whiteflys, Done. (2.119s)\n",
            "image 96/100 /content/drive/My Drive/yolov5/../data/testing/IMG_20190313_021704_4.jpg: 320x640 34 whiteflys, Done. (2.146s)\n",
            "image 97/100 /content/drive/My Drive/yolov5/../data/testing/IMG_20190313_021719_7.jpg: 320x640 14 whiteflys, Done. (2.184s)\n",
            "image 98/100 /content/drive/My Drive/yolov5/../data/testing/IMG_20190313_021730_8.jpg: 320x640 27 whiteflys, Done. (2.144s)\n",
            "image 99/100 /content/drive/My Drive/yolov5/../data/testing/IMG_20190313_021744_5.jpg: 320x640 41 whiteflys, Done. (2.119s)\n",
            "image 100/100 /content/drive/My Drive/yolov5/../data/testing/IMG_20190313_021756_2.jpg: 320x640 36 whiteflys, Done. (2.235s)\n",
            "Results saved to runs/detect/exp7\n",
            "Done. (317.043s)\n"
          ],
          "name": "stdout"
        }
      ]
    },
    {
      "cell_type": "code",
      "metadata": {
        "colab": {
          "base_uri": "https://localhost:8080/"
        },
        "id": "Byyjmn-Hv6_B",
        "outputId": "3a258056-2377-42f2-dd65-40b9e358f220"
      },
      "source": [
        "#F1 score \n",
        "p = 0.47829\n",
        "r = 0.46032\n",
        "f1 = (2*p*r)/(p+r)\n",
        "print(f1)\n"
      ],
      "execution_count": null,
      "outputs": [
        {
          "output_type": "stream",
          "text": [
            "0.4691329791926359\n"
          ],
          "name": "stdout"
        }
      ]
    },
    {
      "cell_type": "code",
      "metadata": {
        "colab": {
          "base_uri": "https://localhost:8080/"
        },
        "id": "9z-PI2QXpIvK",
        "outputId": "868f545f-c972-4a6e-cfb2-79847809e7a9"
      },
      "source": [
        "#F1 score for model 2\n",
        "p = 0.49489\n",
        "r = 0.49089\n",
        "f1 = (2*p*r)/(p+r)\n",
        "print(f1)\n"
      ],
      "execution_count": 7,
      "outputs": [
        {
          "output_type": "stream",
          "text": [
            "0.4928818845989978\n"
          ],
          "name": "stdout"
        }
      ]
    },
    {
      "cell_type": "code",
      "metadata": {
        "colab": {
          "base_uri": "https://localhost:8080/"
        },
        "id": "xwm3mi0OmMS_",
        "outputId": "38b77a05-98b8-41d8-a0b0-36fd551122fe"
      },
      "source": [
        "#testing with the 928x928 input model\n",
        "!python detect.py --weights runs/train/yolov5x_whiteflyE20I8003/weights/best.pt  --img 928 --conf 0.4 --source ../data/testing/"
      ],
      "execution_count": 8,
      "outputs": [
        {
          "output_type": "stream",
          "text": [
            "Namespace(agnostic_nms=False, augment=False, classes=None, conf_thres=0.4, device='', exist_ok=False, hide_conf=False, hide_labels=False, img_size=928, iou_thres=0.45, line_thickness=3, name='exp', nosave=False, project='runs/detect', save_conf=False, save_crop=False, save_txt=False, source='../data/testing/', update=False, view_img=False, weights=['runs/train/yolov5x_whiteflyE20I8003/weights/best.pt'])\n",
            "YOLOv5 🚀 2021-4-25 torch 1.8.1+cu101 CPU\n",
            "\n",
            "Fusing layers... \n",
            "Model Summary: 476 layers, 87198694 parameters, 0 gradients, 217.1 GFLOPS\n",
            "image 1/100 /content/drive/My Drive/yolov5/../data/testing/IMG_20190313_015216_2.jpg: 928x448 10 whiteflys, Done. (4.443s)\n",
            "image 2/100 /content/drive/My Drive/yolov5/../data/testing/IMG_20190313_015231_6.jpg: 928x448 47 whiteflys, Done. (4.378s)\n",
            "image 3/100 /content/drive/My Drive/yolov5/../data/testing/IMG_20190313_015243_4.jpg: 928x448 9 whiteflys, Done. (4.318s)\n",
            "image 4/100 /content/drive/My Drive/yolov5/../data/testing/IMG_20190313_015254_9.jpg: 928x448 7 whiteflys, Done. (4.332s)\n",
            "image 5/100 /content/drive/My Drive/yolov5/../data/testing/IMG_20190313_015306_0.jpg: 928x448 6 whiteflys, Done. (4.407s)\n",
            "image 6/100 /content/drive/My Drive/yolov5/../data/testing/IMG_20190313_015327_8.jpg: 448x928 1 whitefly, Done. (4.236s)\n",
            "image 7/100 /content/drive/My Drive/yolov5/../data/testing/IMG_20190313_015341_2.jpg: 448x928 5 whiteflys, Done. (4.194s)\n",
            "image 8/100 /content/drive/My Drive/yolov5/../data/testing/IMG_20190313_015404_4.jpg: 448x928 2 whiteflys, Done. (4.266s)\n",
            "image 9/100 /content/drive/My Drive/yolov5/../data/testing/IMG_20190313_015413_1.jpg: 448x928 Done. (4.284s)\n",
            "image 10/100 /content/drive/My Drive/yolov5/../data/testing/IMG_20190313_015427_1.jpg: 448x928 4 whiteflys, Done. (4.285s)\n",
            "image 11/100 /content/drive/My Drive/yolov5/../data/testing/IMG_20190313_015439_1.jpg: 448x928 Done. (4.264s)\n",
            "image 12/100 /content/drive/My Drive/yolov5/../data/testing/IMG_20190313_015843_0.jpg: 448x928 14 whiteflys, Done. (4.193s)\n",
            "image 13/100 /content/drive/My Drive/yolov5/../data/testing/IMG_20190313_015901_6.jpg: 928x448 37 whiteflys, Done. (4.425s)\n",
            "image 14/100 /content/drive/My Drive/yolov5/../data/testing/IMG_20190313_015910_6.jpg: 928x448 26 whiteflys, Done. (4.356s)\n",
            "image 15/100 /content/drive/My Drive/yolov5/../data/testing/IMG_20190313_015920_3.jpg: 448x928 1 whitefly, Done. (4.201s)\n",
            "image 16/100 /content/drive/My Drive/yolov5/../data/testing/IMG_20190313_015930_2.jpg: 448x928 120 whiteflys, Done. (4.271s)\n",
            "image 17/100 /content/drive/My Drive/yolov5/../data/testing/IMG_20190313_015943_1.jpg: 448x928 5 whiteflys, Done. (4.283s)\n",
            "image 18/100 /content/drive/My Drive/yolov5/../data/testing/IMG_20190313_020017_7.jpg: 448x928 4 whiteflys, Done. (4.202s)\n",
            "image 19/100 /content/drive/My Drive/yolov5/../data/testing/IMG_20190313_020037_4.jpg: 448x928 19 whiteflys, Done. (4.174s)\n",
            "image 20/100 /content/drive/My Drive/yolov5/../data/testing/IMG_20190313_020100_1.jpg: 448x928 30 whiteflys, Done. (4.243s)\n",
            "image 21/100 /content/drive/My Drive/yolov5/../data/testing/IMG_20190313_020116_6.jpg: 448x928 21 whiteflys, Done. (4.188s)\n",
            "image 22/100 /content/drive/My Drive/yolov5/../data/testing/IMG_20190313_020150_7.jpg: 928x448 1 whitefly, Done. (4.559s)\n",
            "image 23/100 /content/drive/My Drive/yolov5/../data/testing/IMG_20190313_020209_0.jpg: 928x448 5 whiteflys, Done. (4.612s)\n",
            "image 24/100 /content/drive/My Drive/yolov5/../data/testing/IMG_20190313_020214_6.jpg: 928x448 39 whiteflys, Done. (4.481s)\n",
            "image 25/100 /content/drive/My Drive/yolov5/../data/testing/IMG_20190313_020223_3.jpg: 928x448 2 whiteflys, Done. (4.388s)\n",
            "image 26/100 /content/drive/My Drive/yolov5/../data/testing/IMG_20190313_020230_7.jpg: 928x448 21 whiteflys, Done. (4.340s)\n",
            "image 27/100 /content/drive/My Drive/yolov5/../data/testing/IMG_20190313_020240_9.jpg: 448x928 20 whiteflys, Done. (4.312s)\n",
            "image 28/100 /content/drive/My Drive/yolov5/../data/testing/IMG_20190313_020254_6.jpg: 448x928 7 whiteflys, Done. (4.358s)\n",
            "image 29/100 /content/drive/My Drive/yolov5/../data/testing/IMG_20190313_020301_7.jpg: 448x928 Done. (4.255s)\n",
            "image 30/100 /content/drive/My Drive/yolov5/../data/testing/IMG_20190313_020310_0.jpg: 448x928 3 whiteflys, Done. (4.336s)\n",
            "image 31/100 /content/drive/My Drive/yolov5/../data/testing/IMG_20190313_020324_5.jpg: 928x448 4 whiteflys, Done. (4.454s)\n",
            "image 32/100 /content/drive/My Drive/yolov5/../data/testing/IMG_20190313_020342_4.jpg: 928x448 17 whiteflys, Done. (4.364s)\n",
            "image 33/100 /content/drive/My Drive/yolov5/../data/testing/IMG_20190313_020352_1.jpg: 928x448 9 whiteflys, Done. (4.537s)\n",
            "image 34/100 /content/drive/My Drive/yolov5/../data/testing/IMG_20190313_020400_4.jpg: 928x448 14 whiteflys, Done. (4.549s)\n",
            "image 35/100 /content/drive/My Drive/yolov5/../data/testing/IMG_20190313_020410_8.jpg: 928x448 9 whiteflys, Done. (4.530s)\n",
            "image 36/100 /content/drive/My Drive/yolov5/../data/testing/IMG_20190313_020433_0.jpg: 448x928 4 whiteflys, Done. (4.368s)\n",
            "image 37/100 /content/drive/My Drive/yolov5/../data/testing/IMG_20190313_020445_7.jpg: 928x448 Done. (4.461s)\n",
            "image 38/100 /content/drive/My Drive/yolov5/../data/testing/IMG_20190313_020452_3.jpg: 928x448 2 whiteflys, Done. (4.493s)\n",
            "image 39/100 /content/drive/My Drive/yolov5/../data/testing/IMG_20190313_020459_8.jpg: 928x448 2 whiteflys, Done. (4.390s)\n",
            "image 40/100 /content/drive/My Drive/yolov5/../data/testing/IMG_20190313_020512_2.jpg: 928x448 Done. (4.444s)\n",
            "image 41/100 /content/drive/My Drive/yolov5/../data/testing/IMG_20190313_020527_0.jpg: 448x928 Done. (4.313s)\n",
            "image 42/100 /content/drive/My Drive/yolov5/../data/testing/IMG_20190313_020542_4.jpg: 448x928 Done. (4.270s)\n",
            "image 43/100 /content/drive/My Drive/yolov5/../data/testing/IMG_20190313_020549_8.jpg: 448x928 Done. (4.261s)\n",
            "image 44/100 /content/drive/My Drive/yolov5/../data/testing/IMG_20190313_020556_2.jpg: 448x928 Done. (4.388s)\n",
            "image 45/100 /content/drive/My Drive/yolov5/../data/testing/IMG_20190313_020604_4.jpg: 448x928 Done. (4.380s)\n",
            "image 46/100 /content/drive/My Drive/yolov5/../data/testing/IMG_20190313_020612_2.jpg: 448x928 2 whiteflys, Done. (4.459s)\n",
            "image 47/100 /content/drive/My Drive/yolov5/../data/testing/IMG_20190313_020618_2.jpg: 448x928 25 whiteflys, Done. (4.399s)\n",
            "image 48/100 /content/drive/My Drive/yolov5/../data/testing/IMG_20190313_020627_6.jpg: 448x928 2 whiteflys, Done. (4.354s)\n",
            "image 49/100 /content/drive/My Drive/yolov5/../data/testing/IMG_20190313_020644_5.jpg: 448x928 16 whiteflys, Done. (4.663s)\n",
            "image 50/100 /content/drive/My Drive/yolov5/../data/testing/IMG_20190313_020654_8.jpg: 448x928 4 whiteflys, Done. (4.379s)\n",
            "image 51/100 /content/drive/My Drive/yolov5/../data/testing/IMG_20190313_020705_6.jpg: 928x448 17 whiteflys, Done. (4.471s)\n",
            "image 52/100 /content/drive/My Drive/yolov5/../data/testing/IMG_20190313_020716_2.jpg: 448x928 18 whiteflys, Done. (4.474s)\n",
            "image 53/100 /content/drive/My Drive/yolov5/../data/testing/IMG_20190313_020729_1.jpg: 928x448 11 whiteflys, Done. (4.740s)\n",
            "image 54/100 /content/drive/My Drive/yolov5/../data/testing/IMG_20190313_020738_4.jpg: 928x448 20 whiteflys, Done. (4.462s)\n",
            "image 55/100 /content/drive/My Drive/yolov5/../data/testing/IMG_20190313_020748_2.jpg: 448x928 28 whiteflys, Done. (4.337s)\n",
            "image 56/100 /content/drive/My Drive/yolov5/../data/testing/IMG_20190313_020802_0.jpg: 448x928 22 whiteflys, Done. (4.493s)\n",
            "image 57/100 /content/drive/My Drive/yolov5/../data/testing/IMG_20190313_020811_6.jpg: 928x448 17 whiteflys, Done. (4.457s)\n",
            "image 58/100 /content/drive/My Drive/yolov5/../data/testing/IMG_20190313_020829_8.jpg: 928x448 21 whiteflys, Done. (4.437s)\n",
            "image 59/100 /content/drive/My Drive/yolov5/../data/testing/IMG_20190313_020842_1.jpg: 448x928 15 whiteflys, Done. (4.329s)\n",
            "image 60/100 /content/drive/My Drive/yolov5/../data/testing/IMG_20190313_020852_6.jpg: 448x928 11 whiteflys, Done. (4.358s)\n",
            "image 61/100 /content/drive/My Drive/yolov5/../data/testing/IMG_20190313_020904_9.jpg: 448x928 10 whiteflys, Done. (4.344s)\n",
            "image 62/100 /content/drive/My Drive/yolov5/../data/testing/IMG_20190313_020935_0.jpg: 448x928 1 whitefly, Done. (4.213s)\n",
            "image 63/100 /content/drive/My Drive/yolov5/../data/testing/IMG_20190313_020944_7.jpg: 928x448 5 whiteflys, Done. (4.334s)\n",
            "image 64/100 /content/drive/My Drive/yolov5/../data/testing/IMG_20190313_020954_4.jpg: 928x448 5 whiteflys, Done. (4.397s)\n",
            "image 65/100 /content/drive/My Drive/yolov5/../data/testing/IMG_20190313_021011_9.jpg: 448x928 3 whiteflys, Done. (4.229s)\n",
            "image 66/100 /content/drive/My Drive/yolov5/../data/testing/IMG_20190313_021020_3.jpg: 928x448 16 whiteflys, Done. (4.358s)\n",
            "image 67/100 /content/drive/My Drive/yolov5/../data/testing/IMG_20190313_021032_4.jpg: 928x448 14 whiteflys, Done. (4.330s)\n",
            "image 68/100 /content/drive/My Drive/yolov5/../data/testing/IMG_20190313_021046_1.jpg: 448x928 1 whitefly, Done. (4.234s)\n",
            "image 69/100 /content/drive/My Drive/yolov5/../data/testing/IMG_20190313_021057_4.jpg: 448x928 Done. (4.265s)\n",
            "image 70/100 /content/drive/My Drive/yolov5/../data/testing/IMG_20190313_021116_2.jpg: 448x928 2 whiteflys, Done. (4.248s)\n",
            "image 71/100 /content/drive/My Drive/yolov5/../data/testing/IMG_20190313_021141_4.jpg: 448x928 Done. (4.204s)\n",
            "image 72/100 /content/drive/My Drive/yolov5/../data/testing/IMG_20190313_021153_3.jpg: 448x928 4 whiteflys, Done. (4.317s)\n",
            "image 73/100 /content/drive/My Drive/yolov5/../data/testing/IMG_20190313_021205_4.jpg: 448x928 6 whiteflys, Done. (4.298s)\n",
            "image 74/100 /content/drive/My Drive/yolov5/../data/testing/IMG_20190313_021214_6.jpg: 928x448 15 whiteflys, Done. (4.393s)\n",
            "image 75/100 /content/drive/My Drive/yolov5/../data/testing/IMG_20190313_021221_3.jpg: 448x928 8 whiteflys, Done. (4.315s)\n",
            "image 76/100 /content/drive/My Drive/yolov5/../data/testing/IMG_20190313_021233_7.jpg: 928x448 27 whiteflys, Done. (4.392s)\n",
            "image 77/100 /content/drive/My Drive/yolov5/../data/testing/IMG_20190313_021239_4.jpg: 928x448 6 whiteflys, Done. (4.439s)\n",
            "image 78/100 /content/drive/My Drive/yolov5/../data/testing/IMG_20190313_021248_8.jpg: 928x448 5 whiteflys, Done. (4.430s)\n",
            "image 79/100 /content/drive/My Drive/yolov5/../data/testing/IMG_20190313_021308_4.jpg: 928x448 11 whiteflys, Done. (4.385s)\n",
            "image 80/100 /content/drive/My Drive/yolov5/../data/testing/IMG_20190313_021318_8.jpg: 928x448 18 whiteflys, Done. (4.335s)\n",
            "image 81/100 /content/drive/My Drive/yolov5/../data/testing/IMG_20190313_021330_1.jpg: 928x448 35 whiteflys, Done. (4.374s)\n",
            "image 82/100 /content/drive/My Drive/yolov5/../data/testing/IMG_20190313_021339_3.jpg: 928x448 67 whiteflys, Done. (4.348s)\n",
            "image 83/100 /content/drive/My Drive/yolov5/../data/testing/IMG_20190313_021350_0.jpg: 928x448 9 whiteflys, Done. (4.393s)\n",
            "image 84/100 /content/drive/My Drive/yolov5/../data/testing/IMG_20190313_021404_2.jpg: 448x928 14 whiteflys, Done. (4.191s)\n",
            "image 85/100 /content/drive/My Drive/yolov5/../data/testing/IMG_20190313_021433_2.jpg: 448x928 29 whiteflys, Done. (4.423s)\n",
            "image 86/100 /content/drive/My Drive/yolov5/../data/testing/IMG_20190313_021440_7.jpg: 448x928 56 whiteflys, Done. (4.387s)\n",
            "image 87/100 /content/drive/My Drive/yolov5/../data/testing/IMG_20190313_021451_6.jpg: 448x928 8 whiteflys, Done. (4.409s)\n",
            "image 88/100 /content/drive/My Drive/yolov5/../data/testing/IMG_20190313_021459_5.jpg: 448x928 12 whiteflys, Done. (4.365s)\n",
            "image 89/100 /content/drive/My Drive/yolov5/../data/testing/IMG_20190313_021513_8.jpg: 448x928 48 whiteflys, Done. (4.409s)\n",
            "image 90/100 /content/drive/My Drive/yolov5/../data/testing/IMG_20190313_021521_4.jpg: 448x928 38 whiteflys, Done. (4.260s)\n",
            "image 91/100 /content/drive/My Drive/yolov5/../data/testing/IMG_20190313_021542_8.jpg: 448x928 29 whiteflys, Done. (4.287s)\n",
            "image 92/100 /content/drive/My Drive/yolov5/../data/testing/IMG_20190313_021615_0.jpg: 448x928 110 whiteflys, Done. (4.343s)\n",
            "image 93/100 /content/drive/My Drive/yolov5/../data/testing/IMG_20190313_021627_2.jpg: 448x928 54 whiteflys, Done. (4.353s)\n",
            "image 94/100 /content/drive/My Drive/yolov5/../data/testing/IMG_20190313_021637_9.jpg: 448x928 4 whiteflys, Done. (4.433s)\n",
            "image 95/100 /content/drive/My Drive/yolov5/../data/testing/IMG_20190313_021653_1.jpg: 448x928 4 whiteflys, Done. (4.330s)\n",
            "image 96/100 /content/drive/My Drive/yolov5/../data/testing/IMG_20190313_021704_4.jpg: 448x928 6 whiteflys, Done. (4.333s)\n",
            "image 97/100 /content/drive/My Drive/yolov5/../data/testing/IMG_20190313_021719_7.jpg: 448x928 30 whiteflys, Done. (4.355s)\n",
            "image 98/100 /content/drive/My Drive/yolov5/../data/testing/IMG_20190313_021730_8.jpg: 448x928 1 whitefly, Done. (4.342s)\n",
            "image 99/100 /content/drive/My Drive/yolov5/../data/testing/IMG_20190313_021744_5.jpg: 448x928 11 whiteflys, Done. (4.303s)\n",
            "image 100/100 /content/drive/My Drive/yolov5/../data/testing/IMG_20190313_021756_2.jpg: 448x928 Done. (4.423s)\n",
            "Results saved to runs/detect/exp8\n",
            "Done. (476.668s)\n"
          ],
          "name": "stdout"
        }
      ]
    },
    {
      "cell_type": "code",
      "metadata": {
        "id": "rbap3I0Z5J5V"
      },
      "source": [
        "#albumentations application to pipeline\n",
        "https://github.com/ultralytics/yolov5/issues/1929"
      ],
      "execution_count": null,
      "outputs": []
    }
  ]
}
